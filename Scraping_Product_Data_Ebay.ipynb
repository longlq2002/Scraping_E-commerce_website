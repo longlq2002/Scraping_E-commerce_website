{
 "cells": [
  {
   "cell_type": "markdown",
   "id": "404f6c57",
   "metadata": {},
   "source": [
    "### I. Importing Libraries"
   ]
  },
  {
   "cell_type": "code",
   "execution_count": 1,
   "id": "abf7d406",
   "metadata": {},
   "outputs": [],
   "source": [
    "import pandas as pd\n",
    "import numpy as np\n",
    "from bs4 import BeautifulSoup\n",
    "from urllib.request import urlopen \n",
    "import requests"
   ]
  },
  {
   "cell_type": "markdown",
   "id": "49d15084",
   "metadata": {},
   "source": [
    "### II. Extracting HTML with Requests and BeautifulSoup "
   ]
  },
  {
   "cell_type": "code",
   "execution_count": 2,
   "id": "150c305e",
   "metadata": {},
   "outputs": [],
   "source": [
    "headers = {\n",
    "    \"User-Agent\":\"Mozilla/5.0 (Windows NT 10.0) AppleWebKit/537.36 (KHTML, like Gecko) Chrome/42.0.2311.135 Safari/537.36 Edge/12.10136\"\n",
    "    ,\"Content_Type\": \"text.html\"\n",
    "}"
   ]
  },
  {
   "cell_type": "code",
   "execution_count": 3,
   "id": "2892cf43",
   "metadata": {},
   "outputs": [],
   "source": [
    "url = \"https://www.ebay.com/sch/i.html?_from=R40&_nkw=converse+shoe&_sacat=0&_ipg=240\"\n",
    "html = requests.get(url, headers=headers).text\n",
    "soup = BeautifulSoup(html, \"html.parser\")"
   ]
  },
  {
   "cell_type": "markdown",
   "id": "3ef37c6e",
   "metadata": {},
   "source": [
    "### III. Scraping product details "
   ]
  },
  {
   "cell_type": "code",
   "execution_count": 4,
   "id": "f57d1043",
   "metadata": {},
   "outputs": [],
   "source": [
    "name_class = \"heading\"\n",
    "status_class = \"SECONDARY_INFO\"\n",
    "price_class = \"s-item__price\" \n",
    "note_class = \"NEGATIVE BOLD\"\n",
    "image_class = \"s-item__image-wrapper image-treatment\"\n",
    "url_class =\"s-item__link\""
   ]
  },
  {
   "cell_type": "code",
   "execution_count": 5,
   "id": "8f73ef16",
   "metadata": {},
   "outputs": [],
   "source": [
    "product_name = soup.find_all(\"span\", {\"role\": name_class})\n",
    "product_status = soup.find_all(\"span\", {\"class\": status_class})\n",
    "product_price = soup.find_all(\"span\", {\"class\": price_class})\n",
    "product_note = soup.find_all(\"span\", {\"class\": note_class})\n",
    "product_image_link = soup.find_all(\"div\", {\"class\": image_class})\n",
    "product_url = soup.find_all(\"a\", {\"class\": url_class})"
   ]
  },
  {
   "cell_type": "markdown",
   "id": "6d873548",
   "metadata": {},
   "source": [
    "### IV. Check scraped products"
   ]
  },
  {
   "cell_type": "code",
   "execution_count": 6,
   "id": "8d8b2e79",
   "metadata": {},
   "outputs": [],
   "source": [
    "#print(len(product_name))\n",
    "#print(len(product_status))\n",
    "#print(len(product_price))\n",
    "#print(len(product_note))\n",
    "#print(len(product_image_link))\n",
    "#print(len(product_url))"
   ]
  },
  {
   "cell_type": "code",
   "execution_count": 7,
   "id": "1ea6d046",
   "metadata": {},
   "outputs": [],
   "source": [
    "#print(product_name[1].text.strip())\n",
    "#print(product_status[1].text.strip())\n",
    "#print(product_price[1].text.strip())\n",
    "#print(product_note[1].text.strip())\n",
    "#print(product_image_link[1].find(\"img\").get(\"src\").strip())\n",
    "#print(product_url[1].get(\"href\").strip())"
   ]
  },
  {
   "cell_type": "markdown",
   "id": "545fea43",
   "metadata": {},
   "source": [
    "### V. Convert to DataFrame and save as a CSV file"
   ]
  },
  {
   "cell_type": "code",
   "execution_count": 8,
   "id": "54fd879f",
   "metadata": {},
   "outputs": [],
   "source": [
    "name_df = []\n",
    "status_df = []\n",
    "price_df = []\n",
    "note_df = []\n",
    "image_link_df = []\n",
    "url_df = []"
   ]
  },
  {
   "cell_type": "code",
   "execution_count": 9,
   "id": "e3429f1e",
   "metadata": {},
   "outputs": [],
   "source": [
    "for i in range(len(product_name)):\n",
    "    name_df.append(product_name[i].text.strip())\n",
    "    status_df.append(product_status[i].text.strip())\n",
    "    price_df.append(product_price[i].text.strip())\n",
    "    image_link_df.append(product_image_link[i].find(\"img\").get(\"src\").strip())\n",
    "    url_df.append(product_url[i].get(\"href\").strip())\n",
    "    \n",
    "    try:\n",
    "        note_df.append(product_note[i].text.strip())\n",
    "    except:\n",
    "        note_df.append(None)"
   ]
  },
  {
   "cell_type": "code",
   "execution_count": 10,
   "id": "06a12a18",
   "metadata": {},
   "outputs": [],
   "source": [
    "df = pd.DataFrame({\"product_name\": name_df, \"product_status\": status_df, \"product_price\": price_df, \"product_note\": note_df, \"product_image_link\": image_link_df, \"product_url\": url_df})\n",
    "df.drop(0, inplace=True)"
   ]
  },
  {
   "cell_type": "code",
   "execution_count": 11,
   "id": "63b7e835",
   "metadata": {},
   "outputs": [],
   "source": [
    "df.columns = [\"Name\", \"Status\", \"Price\", \"Note\", \"Image\", \"Link\"]\n",
    "#df.head()"
   ]
  },
  {
   "cell_type": "code",
   "execution_count": 12,
   "id": "e7368676",
   "metadata": {},
   "outputs": [],
   "source": [
    "df.to_csv(\"Scraping_product_data_Ebay.csv\", index=False)"
   ]
  }
 ],
 "metadata": {
  "kernelspec": {
   "display_name": "Python 3 (ipykernel)",
   "language": "python",
   "name": "python3"
  },
  "language_info": {
   "codemirror_mode": {
    "name": "ipython",
    "version": 3
   },
   "file_extension": ".py",
   "mimetype": "text/x-python",
   "name": "python",
   "nbconvert_exporter": "python",
   "pygments_lexer": "ipython3",
   "version": "3.11.3"
  }
 },
 "nbformat": 4,
 "nbformat_minor": 5
}
